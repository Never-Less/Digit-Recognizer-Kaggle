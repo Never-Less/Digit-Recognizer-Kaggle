{
 "cells": [
  {
   "cell_type": "code",
   "execution_count": 11,
   "metadata": {},
   "outputs": [
    {
     "name": "stdout",
     "output_type": "stream",
     "text": [
      "2.9.1\n"
     ]
    }
   ],
   "source": [
    "import numpy as np\n",
    "import matplotlib.pyplot as plt\n",
    "import pandas as pd\n",
    "import tensorflow as tf\n",
    "import zipfile\n",
    "from sklearn.model_selection import train_test_split\n",
    "from random import randrange\n",
    "\n",
    "print(tf.__version__)"
   ]
  },
  {
   "cell_type": "code",
   "execution_count": 2,
   "metadata": {},
   "outputs": [],
   "source": [
    "local_zip = './digit-recognizer.zip'\n",
    "zip_ref = zipfile.ZipFile(local_zip, 'r')\n",
    "zip_ref.extractall('./')"
   ]
  },
  {
   "cell_type": "markdown",
   "metadata": {},
   "source": [
    "Extracting pixel from csv using pandas"
   ]
  },
  {
   "cell_type": "code",
   "execution_count": 3,
   "metadata": {},
   "outputs": [],
   "source": [
    "sample = pd.read_csv('./train.csv')\n",
    "\n",
    "#split training and validation set\n",
    "training_sample, validation_sample = train_test_split(sample, test_size=0.15, random_state=30)\n",
    "training_sample_size = training_sample.shape[0]\n",
    "validation_sample_size = validation_sample.shape[0]\n",
    "\n",
    "train_pixel = training_sample.drop('label', axis=1).to_numpy().reshape(training_sample_size, 28, 28)\n",
    "train_label = training_sample['label'].to_numpy()\n",
    "validation_pixel = validation_sample.drop('label', axis=1).to_numpy().reshape(validation_sample_size, 28, 28)\n",
    "validation_label = validation_sample['label'].to_numpy()"
   ]
  },
  {
   "cell_type": "code",
   "execution_count": 13,
   "metadata": {},
   "outputs": [
    {
     "name": "stdout",
     "output_type": "stream",
     "text": [
      "(35700, 28, 28)\n",
      "int64\n",
      "8\n",
      "[[0.         0.         0.         0.         0.         0.         0.         0.         0.         0.         0.         0.         0.         0.         0.         0.         0.         0.         0.         0.         0.         0.         0.         0.         0.         0.         0.         0.        ]\n",
      " [0.         0.         0.         0.         0.         0.         0.         0.         0.         0.         0.         0.         0.         0.         0.         0.         0.         0.         0.         0.         0.         0.         0.         0.         0.         0.         0.         0.        ]\n",
      " [0.         0.         0.         0.         0.         0.         0.         0.         0.         0.         0.         0.         0.         0.         0.         0.         0.         0.         0.         0.         0.         0.         0.         0.         0.         0.         0.         0.        ]\n",
      " [0.         0.         0.         0.         0.         0.         0.         0.         0.         0.         0.         0.         0.         0.         0.         0.         0.         0.         0.         0.         0.         0.         0.         0.         0.         0.         0.         0.        ]\n",
      " [0.         0.         0.         0.         0.         0.         0.         0.         0.         0.         0.         0.         0.         0.         0.         0.         0.         0.         0.         0.         0.         0.         0.         0.         0.         0.         0.         0.        ]\n",
      " [0.         0.         0.         0.         0.         0.         0.         0.         0.         0.         0.         0.         0.         0.         0.         0.         0.41568627 0.89803922 0.99607843 0.99607843 0.99607843 0.99607843 0.99607843 1.         0.89411765 0.16862745 0.         0.        ]\n",
      " [0.         0.         0.         0.         0.         0.         0.         0.         0.         0.         0.         0.         0.         0.22352941 0.68627451 0.81960784 0.99607843 0.99215686 0.99215686 0.99215686 0.92156863 0.75686275 0.75686275 0.83921569 0.70588235 0.07058824 0.         0.        ]\n",
      " [0.         0.         0.         0.         0.         0.         0.         0.         0.         0.         0.         0.11372549 0.64313725 0.97254902 0.99215686 0.99215686 0.9372549  0.93333333 0.54901961 0.37647059 0.25490196 0.         0.         0.1254902  0.08235294 0.         0.         0.        ]\n",
      " [0.         0.         0.         0.         0.         0.         0.         0.         0.         0.         0.14117647 0.83921569 0.99215686 0.99215686 0.63137255 0.52156863 0.         0.         0.03137255 0.71764706 0.39215686 0.         0.         0.         0.         0.         0.         0.        ]\n",
      " [0.         0.         0.         0.         0.         0.         0.         0.         0.         0.14117647 0.84705882 0.99215686 0.99215686 0.16078431 0.02745098 0.         0.         0.         0.05882353 0.99215686 0.96078431 0.43137255 0.         0.         0.         0.         0.         0.        ]\n",
      " [0.         0.         0.         0.         0.         0.         0.         0.         0.         0.47058824 0.99215686 0.99215686 0.61568627 0.01568627 0.         0.         0.         0.         0.47843137 0.99215686 0.99215686 0.8745098  0.         0.         0.         0.         0.         0.        ]\n",
      " [0.         0.         0.         0.         0.         0.         0.         0.         0.         0.47058824 0.99215686 0.99215686 0.74509804 0.03137255 0.         0.         0.         0.1254902  0.83137255 0.99215686 0.99215686 0.56078431 0.         0.         0.         0.         0.         0.        ]\n",
      " [0.         0.         0.         0.         0.         0.         0.         0.         0.         0.02745098 0.22745098 0.89019608 0.99215686 0.73333333 0.29411765 0.         0.39215686 0.95294118 0.99215686 0.99215686 0.16078431 0.01568627 0.         0.         0.         0.         0.         0.        ]\n",
      " [0.         0.         0.         0.         0.         0.         0.         0.         0.         0.         0.         0.6        0.99215686 0.99215686 0.95294118 0.76078431 0.8627451  0.99215686 0.84313725 0.23137255 0.02745098 0.         0.         0.         0.         0.         0.         0.        ]\n",
      " [0.         0.         0.         0.         0.         0.         0.         0.         0.         0.         0.         0.05098039 0.71764706 0.99215686 0.99215686 0.99215686 0.75294118 0.40784314 0.14509804 0.         0.         0.         0.         0.         0.         0.         0.         0.        ]\n",
      " [0.         0.         0.         0.         0.         0.         0.         0.         0.         0.         0.         0.         0.21960784 0.96862745 0.99607843 0.99607843 0.76078431 0.0745098  0.         0.         0.         0.         0.         0.         0.         0.         0.         0.        ]\n",
      " [0.         0.         0.         0.         0.         0.         0.         0.         0.         0.         0.07058824 0.65098039 0.91372549 0.56078431 0.6627451  0.99215686 0.99607843 0.65490196 0.         0.         0.         0.         0.         0.         0.         0.         0.         0.        ]\n",
      " [0.         0.         0.         0.         0.         0.         0.         0.         0.00392157 0.34117647 0.74901961 0.99215686 0.96078431 0.05098039 0.16862745 0.96862745 0.99607843 0.90980392 0.22745098 0.         0.         0.         0.         0.         0.         0.         0.         0.        ]\n",
      " [0.         0.         0.         0.         0.         0.         0.         0.         0.05882353 0.99215686 0.99215686 0.9372549  0.24705882 0.         0.         0.30980392 0.99607843 0.99215686 0.34901961 0.         0.         0.         0.         0.         0.         0.         0.         0.        ]\n",
      " [0.         0.         0.         0.         0.         0.         0.         0.07058824 0.68235294 0.99215686 0.99215686 0.35686275 0.         0.         0.         0.         0.99607843 0.99215686 0.34901961 0.         0.         0.         0.         0.         0.         0.         0.         0.        ]\n",
      " [0.         0.         0.         0.         0.         0.         0.05098039 0.67058824 0.99215686 0.9372549  0.70196078 0.08627451 0.         0.         0.         0.         0.65098039 0.99215686 0.34901961 0.         0.         0.         0.         0.         0.         0.         0.         0.        ]\n",
      " [0.         0.         0.         0.         0.         0.         0.41176471 0.99215686 0.96078431 0.24705882 0.         0.         0.         0.         0.         0.         0.99607843 0.99215686 0.34901961 0.         0.         0.         0.         0.         0.         0.         0.         0.        ]\n",
      " [0.         0.         0.         0.         0.         0.         0.61960784 0.99215686 0.95294118 0.18823529 0.         0.04313725 0.16862745 0.3372549  0.45882353 0.9372549  1.         0.90980392 0.22745098 0.         0.         0.         0.         0.         0.         0.         0.         0.        ]\n",
      " [0.         0.         0.         0.         0.         0.         0.4745098  0.96078431 0.99215686 0.88235294 0.76078431 0.78823529 0.87058824 0.98039216 0.99215686 0.99215686 0.68235294 0.17647059 0.         0.         0.         0.         0.         0.         0.         0.         0.         0.        ]\n",
      " [0.         0.         0.         0.         0.         0.         0.         0.3372549  0.78823529 0.99215686 0.99215686 0.99215686 0.99215686 0.99215686 0.99215686 0.64313725 0.24313725 0.         0.         0.         0.         0.         0.         0.         0.         0.         0.         0.        ]\n",
      " [0.         0.         0.         0.         0.         0.         0.         0.         0.         0.         0.         0.         0.         0.         0.         0.         0.         0.         0.         0.         0.         0.         0.         0.         0.         0.         0.         0.        ]\n",
      " [0.         0.         0.         0.         0.         0.         0.         0.         0.         0.         0.         0.         0.         0.         0.         0.         0.         0.         0.         0.         0.         0.         0.         0.         0.         0.         0.         0.        ]\n",
      " [0.         0.         0.         0.         0.         0.         0.         0.         0.         0.         0.         0.         0.         0.         0.         0.         0.         0.         0.         0.         0.         0.         0.         0.         0.         0.         0.         0.        ]]\n"
     ]
    },
    {
     "data": {
      "text/plain": [
       "<matplotlib.image.AxesImage at 0x299e6d6d100>"
      ]
     },
     "execution_count": 13,
     "metadata": {},
     "output_type": "execute_result"
    },
    {
     "data": {
      "image/png": "[encoded data removed]",
      "text/plain": [
       "<Figure size 432x288 with 1 Axes>"
      ]
     },
     "metadata": {
      "needs_background": "light"
     },
     "output_type": "display_data"
    }
   ],
   "source": [
    "#print the shape and example index\n",
    "index = randrange(0, training_sample_size)\n",
    "\n",
    "np.set_printoptions(linewidth=320)\n",
    "print(train_pixel.shape)\n",
    "print(train_label.dtype)\n",
    "print(train_label[index])\n",
    "print(train_pixel[index])\n",
    "\n",
    "# Visualize the image\n",
    "plt.imshow(train_pixel[index])"
   ]
  },
  {
   "cell_type": "code",
   "execution_count": 5,
   "metadata": {},
   "outputs": [],
   "source": [
    "test_sample = pd.read_csv('./test.csv').to_numpy().reshape(28000, 28, 28)"
   ]
  },
  {
   "cell_type": "code",
   "execution_count": 6,
   "metadata": {},
   "outputs": [],
   "source": [
    "#normalize pixel\n",
    "train_pixel = train_pixel / 255\n",
    "validation_pixel = validation_pixel / 255\n",
    "test_sample = test_sample / 255"
   ]
  },
  {
   "cell_type": "code",
   "execution_count": 7,
   "metadata": {},
   "outputs": [
    {
     "name": "stdout",
     "output_type": "stream",
     "text": [
      "Epoch 1/10\n",
      "1116/1116 [==============================] - 5s 4ms/step - loss: 0.2333 - accuracy: 0.9285 - val_loss: 0.1416 - val_accuracy: 0.9575\n",
      "Epoch 2/10\n",
      "1116/1116 [==============================] - 5s 4ms/step - loss: 0.0925 - accuracy: 0.9711 - val_loss: 0.1184 - val_accuracy: 0.9638\n",
      "Epoch 3/10\n",
      "1116/1116 [==============================] - 5s 4ms/step - loss: 0.0597 - accuracy: 0.9806 - val_loss: 0.0993 - val_accuracy: 0.9708\n",
      "Epoch 4/10\n",
      "1116/1116 [==============================] - 4s 4ms/step - loss: 0.0425 - accuracy: 0.9868 - val_loss: 0.1083 - val_accuracy: 0.9697\n",
      "Epoch 5/10\n",
      "1116/1116 [==============================] - 5s 4ms/step - loss: 0.0374 - accuracy: 0.9882 - val_loss: 0.1018 - val_accuracy: 0.9741\n",
      "Epoch 6/10\n",
      "1111/1116 [============================>.] - ETA: 0s - loss: 0.0282 - accuracy: 0.9905\n",
      "stop training because accuracy has exceeded 99%\n",
      "1116/1116 [==============================] - 5s 4ms/step - loss: 0.0281 - accuracy: 0.9905 - val_loss: 0.1075 - val_accuracy: 0.9719\n"
     ]
    },
    {
     "data": {
      "text/plain": [
       "<keras.callbacks.History at 0x299a5c97280>"
      ]
     },
     "execution_count": 7,
     "metadata": {},
     "output_type": "execute_result"
    }
   ],
   "source": [
    "from gc import callbacks\n",
    "\n",
    "\n",
    "model = tf.keras.models.Sequential([tf.keras.layers.Flatten(),\n",
    "                                    tf.keras.layers.Dense(512, activation=tf.keras.activations.relu),\n",
    "                                    tf.keras.layers.Dense(128, activation=tf.keras.activations.relu),\n",
    "                                    tf.keras.layers.Dense(10, activation=tf.keras.activations.softmax),\n",
    "                                    ])\n",
    "\n",
    "model.compile(optimizer = tf.optimizers.Adam(),\n",
    "              loss = tf.keras.losses.SparseCategoricalCrossentropy(),\n",
    "              metrics=['accuracy'])\n",
    "\n",
    "class MyCallback(tf.keras.callbacks.Callback):\n",
    "    def on_epoch_end(self, epoch, logs={}):\n",
    "        if(logs.get('accuracy') > 0.99):\n",
    "            print('\\nstop training because accuracy has exceeded 99%')\n",
    "            self.model.stop_training = True\n",
    "callbacks = MyCallback()\n",
    "\n",
    "model.fit(train_pixel, train_label, epochs=10, validation_data=(validation_pixel, validation_label), callbacks=[callbacks])"
   ]
  },
  {
   "cell_type": "code",
   "execution_count": 8,
   "metadata": {},
   "outputs": [
    {
     "name": "stdout",
     "output_type": "stream",
     "text": [
      "875/875 [==============================] - 2s 2ms/step\n"
     ]
    }
   ],
   "source": [
    "classification = model.predict(test_sample)"
   ]
  },
  {
   "cell_type": "code",
   "execution_count": 41,
   "metadata": {},
   "outputs": [
    {
     "name": "stdout",
     "output_type": "stream",
     "text": [
      "the image has the number of: 9\n"
     ]
    },
    {
     "data": {
      "image/png": "[encoded data removed]",
      "text/plain": [
       "<Figure size 432x288 with 1 Axes>"
      ]
     },
     "metadata": {
      "needs_background": "light"
     },
     "output_type": "display_data"
    }
   ],
   "source": [
    "index = randrange(0, test_sample.shape[0])\n",
    "plt.imshow(test_sample[index])\n",
    "answer = np.argmax(classification[index])\n",
    "print(f'the image has the number of: {answer}')"
   ]
  }
 ],
 "metadata": {
  "kernelspec": {
   "display_name": "Python 3.9.4 64-bit",
   "language": "python",
   "name": "python3"
  },
  "language_info": {
   "codemirror_mode": {
    "name": "ipython",
    "version": 3
   },
   "file_extension": ".py",
   "mimetype": "text/x-python",
   "name": "python",
   "nbconvert_exporter": "python",
   "pygments_lexer": "ipython3",
   "version": "3.9.4"
  },
  "orig_nbformat": 4,
  "vscode": {
   "interpreter": {
    "hash": "25034407fed5d681614dac11a1c0537e8cb49e3a8883c071303eea01322943d9"
   }
  }
 },
 "nbformat": 4,
 "nbformat_minor": 2
}
